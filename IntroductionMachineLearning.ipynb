{
 "cells": [
  {
   "cell_type": "markdown",
   "id": "manual-assembly",
   "metadata": {},
   "source": [
    "# <span style=\"font-family: Arial; font-weight:bold;font-size:1.5em;color:#00b3e5;\"> Introduction to Machine Learning\n",
    "\n",
    "## 1. [What is Machine Learning](#WHAT_ML)\n",
    "\n",
    "## 2. [ML Algorithms / Types](#DOMAIN)\n",
    "\n",
    "## 3. [Context](#CONTEXT)\n",
    "\n",
    "## 4. [Attribute Information](#ATTRIB_INFO)\n",
    "\n",
    "## 5. [Learning Outcomes](#LEARN_OUT)\n",
    "\n",
    "## 6. [Objective](#OBJE)\n",
    "    \n",
    "## 8. [References](#REF)"
   ]
  },
  {
   "attachments": {},
   "cell_type": "markdown",
   "id": "played-content",
   "metadata": {},
   "source": [
    "<a id='WHAT_ML'></a>\n",
    "\n",
    "## <span style=\"font-family: Arial; font-weight:bold;font-size:1.5em;color:#00b3e5;\"> 1. What is Machine Lerning\n",
    "\n",
    "<font color=darkblue>\n",
    "    \n",
    "    \n",
    "####    What is Machine Learning?\n",
    "    \n",
    "Two definitions of Machine Learning are offered. Arthur Samuel described it as: \"the field of study that gives computers the ability to learn without being explicitly programmed.\" This is an older, informal definition.\n",
    "\n",
    "Tom Mitchell provides a more modern definition: \"A computer program is said to learn from experience E with respect to some class of tasks T and performance measure P, if its performance at tasks in T, as measured by P, improves with experience E.\"\n",
    "\n",
    "    Example: playing checkers.\n",
    "\n",
    "    E = the experience of playing many games of checkers\n",
    "\n",
    "    T = the task of playing checkers.\n",
    "\n",
    "    P = the probability that the program will win the next game.\n",
    "\n",
    "    In general, any machine learning problem can be assigned to one of two broad classifications:\n",
    "\n",
    "    Supervised learning and Unsupervised learning.\n",
    "\n",
    "    \n",
    "    \n",
    "    \n",
    "    \n",
    "    1.1 Here's a definition of what is machine learning as due to Arthur Samuel. He defined machine learning as the field of study that gives computers the ability to learn without being explicitly learned.\n",
    "    \n",
    "    1.2 Samuel's claim to fame was that back in the 1950, he wrote a checkers playing program and the amazing thing about this checkers playing program was that Arthur Samuel himself wasn't a very good checkers player. But what he did was he had to programmed maybe tens of thousands of games against himself, and by watching what sorts of board positions tended to lead to wins and what sort of board positions tended to lead to losses, the checkers playing program learned over time what are good board positions and what are bad board positions. And eventually learn to play checkers better than the Arthur Samuel himself was able to. This was a remarkable result. Arthur Samuel himself turns out not to be a very good checkers player. But because a computer has the patience to play tens of thousands of games against itself, no human has the patience to play that many games. By doing this, a computer was able to get so much checkers playing experience that it eventually became a better checkers player than Arthur himself.\n",
    "    \n",
    "    1.3 This is a somewhat informal definition and an older one. Here's a slightly more recent definition by Tom Mitchell who's a friend of Carnegie Melon. So Tom defines machine learning by saying that a well-posed learning problem is defined as follows. He says, a computer program is said to learn from experience E with respect to some task T and some performance measure P, if its performance on T, as measured by P, improves with experience E. I actually think he came out with this definition just to make it rhyme. For the checkers playing examples, the experience E would be the experience of having the program play tens of thousands of games itself. The task T would be the task of playing checkers, and the performance measure P will be the probability that wins the next game of checkers against some new opponent.\n",
    "    \n",
    "    1.4 http://incompleteideas.net/book/first/ebook/node109.html\n",
    "    \n",
    "        An important precursor to Tesauro's TD-Gammon was the seminal work of Arthur Samuel (1959, 1967) in constructing programs for learning to play checkers. Samuel was one of the first to make effective use of heuristic search methods and of what we would now call temporal-difference learning. His checkers players are instructive case studies in addition to being of historical interest. We emphasize the relationship of Samuel's methods to modern reinforcement learning methods and try to convey some of Samuel's motivation for using them\n",
    "    \n",
    "    1.5 Samuel first wrote a checkers-playing program for the IBM 701 in 1952. His first learning program was completed in 1955 and was demonstrated on television in 1956. Later versions of the program achieved good, though not expert, playing skill.\n",
    "\n",
    "</font>"
   ]
  },
  {
   "cell_type": "markdown",
   "id": "brazilian-dialogue",
   "metadata": {},
   "source": [
    "<a id='TYPES_ML'></a>\n",
    "\n",
    "## <span style=\"font-family: Arial; font-weight:bold;font-size:1.5em;color:#00b3e5;\"> 2. ML Types / Algorithms\n",
    "\n",
    "<font color=darkblue>\n",
    "\n",
    "    1. Supervised Learning\n",
    "    \n",
    "    2. Unsupervuised Learning\n",
    "    \n",
    "    3. Reinforcement Learning\n",
    "    \n",
    "    4. Recommendation Systems\n",
    "    \n",
    "</font>"
   ]
  },
  {
   "cell_type": "markdown",
   "id": "protecting-criterion",
   "metadata": {},
   "source": []
  },
  {
   "cell_type": "markdown",
   "id": "lucky-vatican",
   "metadata": {},
   "source": []
  },
  {
   "cell_type": "markdown",
   "id": "acquired-london",
   "metadata": {},
   "source": []
  },
  {
   "cell_type": "markdown",
   "id": "sustained-singer",
   "metadata": {},
   "source": [
    "<a id='REF'></a>\n",
    "\n",
    "## <span style=\"font-family: Arial; font-weight:bold;font-size:1.5em;color:#00b3e5;\"> Reference Links\n",
    "\n",
    "<font color=darkblue>\n",
    "    \n",
    "    http://incompleteideas.net/book/first/ebook/node109.html\n",
    "\n",
    "</font>"
   ]
  },
  {
   "cell_type": "markdown",
   "id": "upper-perry",
   "metadata": {},
   "source": []
  }
 ],
 "metadata": {
  "kernelspec": {
   "display_name": "Python 3",
   "language": "python",
   "name": "python3"
  },
  "language_info": {
   "codemirror_mode": {
    "name": "ipython",
    "version": 3
   },
   "file_extension": ".py",
   "mimetype": "text/x-python",
   "name": "python",
   "nbconvert_exporter": "python",
   "pygments_lexer": "ipython3",
   "version": "3.8.8"
  }
 },
 "nbformat": 4,
 "nbformat_minor": 5
}
